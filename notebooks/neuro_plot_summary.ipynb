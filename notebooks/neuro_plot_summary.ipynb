{
 "cells": [
  {
   "cell_type": "code",
   "execution_count": 1,
   "metadata": {},
   "outputs": [],
   "source": [
    "import os, time\n",
    "import numpy as np\n",
    "import pickle\n",
    "\n",
    "# Figures \n",
    "from specs import *\n",
    "import matplotlib.pyplot as plt\n",
    "from matplotlib.gridspec import GridSpec\n",
    "import matplotlib.ticker\n",
    "\n",
    "# Which training scenarios to plot\n",
    "# sce_plt = [3, 1]\n",
    "sce_plt = [2, 3, 0, 1]\n",
    "n_sce_plt = len(sce_plt)"
   ]
  },
  {
   "cell_type": "code",
   "execution_count": 2,
   "metadata": {},
   "outputs": [
    {
     "name": "stdout",
     "output_type": "stream",
     "text": [
      "Loaded from  ../data/neuro_corr_regression_no_noise.pkl\n"
     ]
    },
    {
     "data": {
      "text/plain": [
       "['Cycling', '3-bit flipflop', 'Mante', 'Romo', 'Complex sine']"
      ]
     },
     "execution_count": 2,
     "metadata": {},
     "output_type": "execute_result"
    },
    {
     "data": {
      "image/png": "[encoded data removed]",
      "text/plain": [
       "<Figure size 288x432 with 3 Axes>"
      ]
     },
     "metadata": {
      "needs_background": "light"
     },
     "output_type": "display_data"
    }
   ],
   "source": [
    "def plot_corr(axes):\n",
    "    n_rows, n_cols = axes.shape\n",
    "    \n",
    "    # Load data\n",
    "    with_noise = False\n",
    "    if with_noise:\n",
    "        file_name = \"neuro_corr_regression.pkl\"\n",
    "    else:\n",
    "        file_name = \"neuro_corr_regression_no_noise.pkl\"\n",
    "    data_file = os.path.join(data_path, file_name)\n",
    "    with open(data_file, 'rb') as handle:\n",
    "        [\n",
    "        task_names, task_lbls, n_task, lbl_sce,\n",
    "        n_samples, n_sce, n_mi, dim_hid, \n",
    "        with_noise, loss_sce, n_steps_sce, lr0s_sce, \n",
    "        norm_w_sce, norm_h_sce, corr_w_h_sce, corr2_w_h_sce, \n",
    "        n_comp_max, n_comps, n_nc, frac_train, alpha_range, bs_train_all, \n",
    "        loss, loss_fit, loss_test, r_sq, r_sq_test, alphas, cevr_fit,\n",
    "        ] = pickle.load(handle)\n",
    "    print('Loaded from ', data_file)\n",
    "\n",
    "    # Plot correlation and norms\n",
    "    # Choose correlation measure: 0~naive; 1~adjusted for PR\n",
    "    i_corr = 0\n",
    "\n",
    "    # Labels\n",
    "    ylbls = np.array([\n",
    "        r\"Corr $\\rho$\",\n",
    "        r\"$\\| \\mathbf{w}_\\mathrm{out} \\|$\",\n",
    "        # r\"$\\| \\mathbf{x} \\|$\",\n",
    "        r\"States $\\| \\mathbf{x} \\|$\",\n",
    "    ])\n",
    "    \n",
    "    # Correlation between output and hidden states\n",
    "    ax = axes[0, 0]\n",
    "    if len(sce_plt) == 2:\n",
    "        sce_lbls_w = [\"Small\", \"Large\"]\n",
    "    else:\n",
    "        sce_lbls_w = [\n",
    "            \"Small, decaying\", \n",
    "            \"Small, chaotic\", \n",
    "            \"Large, decaying\", \n",
    "            \"Large, chaotic\", ]\n",
    "    i_if = 1\n",
    "    ys = np.array(corr_w_h_sce)[:, :, :, i_if, i_corr]\n",
    "    plot_stats(ax, ys, sce_plt, sce_lbls=sce_lbls_w)\n",
    "\n",
    "    # Output weight norm\n",
    "    ax = axes[1, 0]\n",
    "    i_w = 2\n",
    "    ys = np.array(norm_w_sce)[:, :, :, i_w, i_if] * np.sqrt(dim_hid)\n",
    "    plot_stats(ax, ys, sce_plt)\n",
    "\n",
    "    # State norm\n",
    "    ax = axes[2, 0]\n",
    "    ys = np.array(norm_h_sce)[:, :, :, i_if] * np.sqrt(dim_hid)\n",
    "    plot_stats(ax, ys, sce_plt)\n",
    "        \n",
    "    # if leg:\n",
    "    ax = axes[0, 0]\n",
    "    if n_sce_plt == 2:\n",
    "        lbl = \"Initial $\\mathbf{w}_\\mathrm{out}$\"\n",
    "    else:\n",
    "        lbl = \"Initial $\\mathbf{w}_\\mathrm{out}$ and dyn.\"\n",
    "\n",
    "    for i_r in range(n_rows):\n",
    "        ax = axes[i_r, 0]\n",
    "        yticks = [\n",
    "            [1/np.sqrt(dim_hid), 1],\n",
    "            [1/np.sqrt(dim_hid), 1],\n",
    "            [1, np.sqrt(dim_hid)],\n",
    "        ][i_r]\n",
    "        ytlbls = [\n",
    "            [r\"$\\frac{1}{\\sqrt{N}}$\", r\"$1$\"],\n",
    "            [r\"$\\frac{1}{\\sqrt{N}}$\", r\"$1$\"],\n",
    "            [r\"$1$\", r\"$\\sqrt{N}$\"]\n",
    "        ][i_r]\n",
    "\n",
    "        for it, yt in enumerate(yticks):\n",
    "            if i_r == 1:\n",
    "                # c = colors[[0, 1][it]]\n",
    "                i_sce = [3, 1][it]\n",
    "                c = cs_sce[i_sce]\n",
    "                ax.axhline(yt, ls='--', c=c, zorder=3)\n",
    "            # else:\n",
    "            #     c = c_leg\n",
    "            #     ax.axhline(yt, ls='-', c=c, zorder=-1, alpha=0.5)\n",
    "\n",
    "        ax.set_yscale('log')\n",
    "        locmaj = matplotlib.ticker.LogLocator(base=np.sqrt(dim_hid), subs=(1.0,))\n",
    "        # ax.yaxis.set_major_locator(locmaj)\n",
    "        locmin = matplotlib.ticker.LogLocator(base=np.sqrt(dim_hid), subs=np.arange(1, 10) * .1)\n",
    "        ax.set_ylim(yticks[0]/4, yticks[1]*4)\n",
    "        # ax.yaxis.set_minor_locator(locmin)\n",
    "        # ax.yaxis.set_minor_formatter(matplotlib.ticker.NullFormatter())\n",
    "        # ax.set_yticks(yticks)\n",
    "        # ax.set_yticklabels(ytlbls)\n",
    "\n",
    "    # Polish\n",
    "    for i_r in range(n_rows):\n",
    "        ax = axes[i_r, 0]\n",
    "        ylbl = ylbls[i_r]\n",
    "        ax.set_ylabel(ylbl)\n",
    "    return task_lbls\n",
    "\n",
    "n_rows = 3\n",
    "n_cols = 1\n",
    "fig = plt.figure(figsize=(4 * n_cols, 2. * n_rows))\n",
    "axes_corr = subplots(fig, n_rows, n_cols)\n",
    "plot_corr(axes_corr)"
   ]
  },
  {
   "cell_type": "code",
   "execution_count": 3,
   "metadata": {},
   "outputs": [
    {
     "name": "stdout",
     "output_type": "stream",
     "text": [
      "Loaded from  ../data/neuro_corr_regression_no_noise.pkl\n"
     ]
    },
    {
     "data": {
      "image/png": "[encoded data removed]",
      "text/plain": [
       "<Figure size 288x288 with 2 Axes>"
      ]
     },
     "metadata": {
      "needs_background": "light"
     },
     "output_type": "display_data"
    }
   ],
   "source": [
    "# Number of PCs necessary to reach 95 R^2\n",
    "def plot_dims(axes):\n",
    "    n_rows, n_cols = axes.shape\n",
    "    \n",
    "    # Load data\n",
    "    with_noise = False\n",
    "    if with_noise:\n",
    "        file_name = \"neuro_corr_regression.pkl\"\n",
    "    else:\n",
    "        file_name = \"neuro_corr_regression_no_noise.pkl\"\n",
    "    data_file = os.path.join(data_path, file_name)\n",
    "    with open(data_file, 'rb') as handle:\n",
    "        [\n",
    "        task_names, task_lbls, n_task, lbl_sce,\n",
    "        n_samples, n_sce, n_mi, dim_hid, \n",
    "        with_noise, loss_sce, n_steps_sce, lr0s_sce, \n",
    "        norm_w_sce, norm_h_sce, corr_w_h_sce, corr2_w_h_sce, \n",
    "        n_comp_max, n_comps, n_nc, frac_train, alpha_range, bs_train_all, \n",
    "        loss, loss_fit, loss_test, r_sq, r_sq_test, alphas, cevr_fit,\n",
    "        ] = pickle.load(handle)\n",
    "    print('Loaded from ', data_file)\n",
    "\n",
    "    \n",
    "    \n",
    "    r2_thr = 0.9\n",
    "    for i_r, i_c in np.ndindex(n_rows, n_cols):\n",
    "        ax = axes[i_r, i_c]\n",
    "        i_y = i_r\n",
    "        if i_y == 1:\n",
    "            # Fitting dimension\n",
    "            n_comp_thr = n_comps[np.argmax(r_sq_test > r2_thr, axis=-1)]\n",
    "            n_comp_thr = np.where(np.any(r_sq_test > r2_thr, axis=-1), n_comp_thr, np.nan)\n",
    "            ys = n_comp_thr\n",
    "        else:\n",
    "            # PCA dimension\n",
    "            ys = n_comps[np.argmax(cevr_fit > r2_thr, axis=-1)]\n",
    "            ys = np.where(np.any(cevr_fit > r2_thr, axis=-1), ys, np.nan)\n",
    "        plot_stats(ax, ys, sce_plt)\n",
    "        for i_wo, i_sce in enumerate([2, 0]):\n",
    "            # lbl = r\"$\\mathbf{w}_\\mathrm{out}$ \" + [\"large\", r\"small\"][i_wo]\n",
    "            lbl = [\"Aligned\", \"Oblique\"][i_wo]\n",
    "            ax.bar(0, 0, lw=0, color=cs_sce[i_sce], alpha=alpha_sce[i_sce], label=lbl)\n",
    "        for i_g in range(2):\n",
    "            c = ['0.7', '0.3'][i_g]\n",
    "            lbl = \"init. \" + [\"decaying\", \"chaotic\"][i_g]\n",
    "            alpha = [0.7, 1.][i_g]\n",
    "            ax.bar(0, 0, lw=0, color=c, alpha=alpha, label=lbl)\n",
    "        ax.set_ylim(0, 15)\n",
    "        ax.set_yticks([0, 10])\n",
    "        # lbl = r\"$D_{%s,\\, %d}$\" % ([\"x\", \"\\mathrm{fit}\"][i_y], r2_thr*100)\n",
    "        lbl = [r\"Dim. activity\", r\"Dim. fit\"][i_r]\n",
    "        ax.set_ylabel(lbl)\n",
    "\n",
    "n_rows = 2\n",
    "n_cols = 1\n",
    "fig = plt.figure(figsize=(4 * n_cols, 2. * n_rows))\n",
    "axes_dims = subplots(fig, n_rows, n_cols)\n",
    "plot_dims(axes_dims)"
   ]
  },
  {
   "cell_type": "code",
   "execution_count": 4,
   "metadata": {},
   "outputs": [
    {
     "name": "stdout",
     "output_type": "stream",
     "text": [
      "Loaded from  ../data/neuro_perturb.pkl\n"
     ]
    },
    {
     "data": {
      "image/png": "[encoded data removed]",
      "text/plain": [
       "<Figure size 288x144 with 1 Axes>"
      ]
     },
     "metadata": {
      "needs_background": "light"
     },
     "output_type": "display_data"
    }
   ],
   "source": [
    "# Perturbation\n",
    "def plot_suscept(ax):\n",
    "    file_name = \"neuro_perturb.pkl\"\n",
    "    data_file = os.path.join(data_path, file_name)\n",
    "    with open(data_file, 'rb') as handle:\n",
    "        [\n",
    "        task_names, task_lbls, n_task, lbl_sce,\n",
    "        n_samples, n_sce, n_mi, dim_hid, \n",
    "        pert_dirs, pert_dir_lbls, n_pd, n_pa, pert_amp_maxs, t_pert_mins, dt_pert_intvls, dt_pert_loss, n_pt, n_mip, \n",
    "        batch_size_pert, \n",
    "        n_comp_pert, resp_lbls, n_resp, \n",
    "        loss_pre_task, loss_pert_task, \n",
    "        output_pre_task, output_pert_task, \n",
    "        noise_hid_std_ex, task_pert_task, t_perts_task,\n",
    "        wo_proj_pw_task, h_pre_proj_pw_task, h_pert_proj_pw_task,\n",
    "        ] = pickle.load(handle)\n",
    "    print('Loaded from ', data_file)\n",
    "\n",
    "    # Relative susceptibility\n",
    "    aucs = loss_pert_task.mean(-1).sum(-1)\n",
    "    rel_auc_wout_pca = aucs[..., 0] / aucs[..., 1]\n",
    "    \n",
    "    ys = rel_auc_wout_pca\n",
    "    plot_stats(ax, ys, sce_plt)\n",
    "    ax.set_ylim(0, 1.2)\n",
    "    ax.set_yticks([0, 1])\n",
    "    # ax.set_ylabel(r\"Suscept. out$\\,/\\,$PC\", loc='bottom')\n",
    "    ax.set_ylabel(r\"Pert. suscept.\")\n",
    "    \n",
    "n_rows = 1\n",
    "n_cols = 1\n",
    "fig = plt.figure(figsize=(4 * n_cols, 2. * n_rows))\n",
    "ax_pert = subplots(fig, n_rows, n_cols)[0, 0]\n",
    "plot_suscept(ax_pert)"
   ]
  },
  {
   "cell_type": "code",
   "execution_count": 5,
   "metadata": {},
   "outputs": [
    {
     "data": {
      "image/png": "[encoded data removed]",
      "text/plain": [
       "<Figure size 288x144 with 1 Axes>"
      ]
     },
     "metadata": {
      "needs_background": "light"
     },
     "output_type": "display_data"
    }
   ],
   "source": [
    "\n",
    "# Plot ratio var along output / var along PC\n",
    "def plot_ratio_var(ax):\n",
    "    file_name = \"neuro_noise_compression.pkl\"\n",
    "    data_file = os.path.join(data_path, file_name)\n",
    "    with open(data_file, 'rb') as handle:\n",
    "        res = pickle.load(handle)\n",
    "        [\n",
    "        task_names, task_lbls, n_task, lbl_sce, dim_hid,\n",
    "        n_samples, n_sce, n_mi, \n",
    "        n_tc, n_samp_per_tc,batch_size_ex, n_comp_tca, n_rps, n_ops, n_pps, var_rps, var_ops, var_pps, \n",
    "        t_pc_min,\n",
    "        ] = res\n",
    "        del res\n",
    "\n",
    "    # Ratio output var / random var\n",
    "    ys = var_ops.mean(-1) / var_rps.mean(-1)\n",
    "    plot_stats(ax, ys, sce_plt)\n",
    "    \n",
    "    ax.axhline(1, ls='--', c=c_leg)\n",
    "    ax.set_yscale('log')\n",
    "    \n",
    "    # ax.set_ylabel(\"Var. output$\\,/\\,$random\")\n",
    "    ax.set_ylabel(\"Noise suppr.\")\n",
    "    \n",
    "n_rows = 1\n",
    "n_cols = 1\n",
    "fig = plt.figure(figsize=(4 * n_cols, 2. * n_rows))\n",
    "ax_ratio_var = subplots(fig, n_rows, n_cols)[0, 0]\n",
    "plot_ratio_var(ax_ratio_var)\n"
   ]
  },
  {
   "cell_type": "code",
   "execution_count": 6,
   "metadata": {},
   "outputs": [
    {
     "name": "stdout",
     "output_type": "stream",
     "text": [
      "Loaded from  ../data/neuro_dissimilarity_no_noise.pkl\n"
     ]
    },
    {
     "data": {
      "image/png": "[encoded data removed]",
      "text/plain": [
       "<Figure size 288x144 with 1 Axes>"
      ]
     },
     "metadata": {
      "needs_background": "light"
     },
     "output_type": "display_data"
    }
   ],
   "source": [
    "\n",
    "def plot_diss(ax):\n",
    "    # Load reduced data for plotting\n",
    "    with_noise = False\n",
    "    if with_noise:\n",
    "        file_name = \"neuro_dissimilarity.pkl\"\n",
    "    else:\n",
    "        file_name = \"neuro_dissimilarity_no_noise.pkl\"\n",
    "    data_file = os.path.join(data_path, file_name)\n",
    "    with open(data_file, 'rb') as handle:\n",
    "        [\n",
    "        task_names, task_lbls, n_task, lbl_sce,\n",
    "        n_samples, n_sce, n_mi, dim_hid, \n",
    "        with_noise, \n",
    "        alpha_ridge_CCA, dist_eucl_sce, dist_ang_sce, svs_cca_sce, \n",
    "        dist_ex_eucl_sce, dist_ex_ang_sce, \n",
    "        ] = pickle.load(handle)\n",
    "    print('Loaded from ', data_file)\n",
    "        \n",
    "    ys = np.array(dist_ang_sce)\n",
    "    plot_stats(ax, ys, sce_plt)\n",
    "    # ax.set_ylabel(\"Dissimilarity\")\n",
    "    ax.set_ylabel(\"Diss. btw. learners\")\n",
    "    ymax = np.pi/4\n",
    "    if ymax == np.pi/2:\n",
    "        ax.set_yticks([0, np.pi/4, np.pi/2])\n",
    "        ax.set_yticklabels([0, r\"$\\frac{\\pi}{4}$\", r\"$\\frac{\\pi}{2}$\"])\n",
    "        ax.set_ylim([0, np.pi/2])\n",
    "    else:\n",
    "        ax.set_yticks([0, np.pi/8, np.pi/4])\n",
    "        ax.set_yticklabels([0, r\"$\\frac{\\pi}{8}$\", r\"$\\frac{\\pi}{4}$\"])\n",
    "        ax.set_ylim([0, None])\n",
    "\n",
    "n_rows = 1\n",
    "n_cols = 1\n",
    "fig = plt.figure(figsize=(4 * n_cols, 2. * n_rows))\n",
    "ax_diss = subplots(fig, n_rows, n_cols)[0, 0]\n",
    "plot_diss(ax_diss)\n"
   ]
  },
  {
   "cell_type": "code",
   "execution_count": null,
   "metadata": {},
   "outputs": [],
   "source": []
  },
  {
   "cell_type": "code",
   "execution_count": 7,
   "metadata": {},
   "outputs": [
    {
     "name": "stdout",
     "output_type": "stream",
     "text": [
      "Loaded from  ../data/neuro_corr_regression_no_noise.pkl\n",
      "Loaded from  ../data/neuro_dissimilarity_no_noise.pkl\n",
      "Loaded from  ../data/neuro_corr_regression_no_noise.pkl\n",
      "Loaded from  ../data/neuro_perturb.pkl\n",
      "Save figure to ../figures/neuro_all_init.both\n"
     ]
    },
    {
     "data": {
      "image/png": "[encoded data removed]",
      "text/plain": [
       "<Figure size 576x504 with 8 Axes>"
      ]
     },
     "metadata": {},
     "output_type": "display_data"
    }
   ],
   "source": [
    "# Join all plots\n",
    "fig = plt.figure(figsize=(8, 7), facecolor='w')\n",
    "\n",
    "# Correlation, norms\n",
    "n_rows = 4\n",
    "n_cols = 2\n",
    "gs0 = GridSpec(n_rows, n_cols)\n",
    "gs0.update(left=0., right=1., bottom=0., top=1., wspace=0.3, hspace=0.3)\n",
    "axes = np.array([[fig.add_subplot(gs0[k, j])\n",
    "                  for j in range(n_cols)] for k in range(n_rows)])\n",
    "task_lbls = plot_corr(axes[:3, :1])\n",
    "plot_diss(axes[3, 0])\n",
    "plot_dims(axes[:2, 1:])\n",
    "plot_suscept(axes[2, 1])\n",
    "plot_ratio_var(axes[3, 1])\n",
    "\n",
    "n_task = len(task_lbls)\n",
    "for i_r, i_c in np.ndindex(n_rows, n_cols):\n",
    "    ax = axes[i_r, i_c]\n",
    "    ax.set_xticks(np.arange(n_task))\n",
    "    if i_r == n_rows - 1:\n",
    "        ax.set_xticklabels(task_lbls, rotation=40, ha=\"right\")\n",
    "    else:\n",
    "        ax.set_xticklabels([])\n",
    "    fixticks(ax, manage_ticks=False)\n",
    "for i_c in range(n_cols):\n",
    "    fig.align_ylabels(axes[:, i_c])\n",
    "    \n",
    "    \n",
    "########################################################################\n",
    "# Legend by hand\n",
    "ax = axes[0, 1]\n",
    "# Create a Rectangle patch\n",
    "if n_task == 5:\n",
    "    x0_rec = 0.6\n",
    "    dx_rec= 0.4\n",
    "    x0 = 2.5\n",
    "    dx = 0.7\n",
    "    dxp = -0.8\n",
    "    dxpp = -2.\n",
    "else:\n",
    "    x0_rec = 0.6\n",
    "    dx_rec= 0.4\n",
    "    x0 = 2.5\n",
    "    dx = 0.7\n",
    "    dxp = -0.8\n",
    "    dxpp = -2.\n",
    "y0_rec = 1.01\n",
    "dy_rec = 0.12\n",
    "y0 = 17\n",
    "dy = 2\n",
    "dyp = 2\n",
    "dypp = 2\n",
    "x1 = x0 + dx\n",
    "y1 = y0 + dy\n",
    "xis = [x0, x0, x1, x1]\n",
    "yis = [y0, y1, y0, y1]\n",
    "ypos = y1 + dyp\n",
    "rect = plt.Rectangle((x0_rec, y0_rec), dx_rec, dy_rec,\n",
    "    fill=False, color=c_leg, \n",
    "    transform=fig.transFigure, figure=fig)\n",
    "fig.patches.extend([rect])\n",
    "# Points\n",
    "for i, j in np.ndindex(2, 2):\n",
    "    k = 2*i + j\n",
    "    x = xis[k]\n",
    "    y = yis[k]\n",
    "    j_c = (j+1) % 2\n",
    "    i_sce = [3, 2, 1, 0][k]\n",
    "    ax.plot(x, y, 'o', ms=5, c=cs_sce[i_sce], alpha=alpha_sce[i_sce], clip_on=False)\n",
    "# Text\n",
    "ax.text(x0, ypos, r\"small\", va='center', ha='center')#, transform=ax.transAxes)\n",
    "ax.text(x1, ypos, r\"large\", va='center', ha='center')#, transform=ax.transAxes)\n",
    "ax.text((x0+x1)/2, ypos+dypp, \"Output weights\", va='center', ha='center')#, transform=ax.transAxes)\n",
    "ax.text(x0+dxp, y1, \"decaying\", va='center', ha='center')#, transform=ax.transAxes)\n",
    "ax.text(x0+dxp, y0, \"chaotic\", va='center', ha='center')#, transform=ax.transAxes)\n",
    "ax.text(x0+dxpp, (y0+y1)/2, \"Initial\\ndynamics\", va='center', ha='center')#, transform=ax.transAxes)\n",
    "\n",
    "\n",
    "# Label plots\n",
    "for i_r, i_c in np.ndindex(n_rows, n_cols):\n",
    "    ax = axes[i_r, i_c]\n",
    "    i = i_r + i_c * n_rows\n",
    "    xpos = [-0.20, -0.18][i_c]\n",
    "    ypos = 1.\n",
    "    ax.text(xpos, ypos, flbs[i], fontsize=fs, ha='center', va='bottom', transform=ax.transAxes)\n",
    "\n",
    "# Save figure\n",
    "fig_name = \"neuro_all_init\"\n",
    "saving_fig(fig, figure_path, fig_name, data_type='both')"
   ]
  },
  {
   "cell_type": "code",
   "execution_count": null,
   "metadata": {},
   "outputs": [],
   "source": []
  },
  {
   "cell_type": "code",
   "execution_count": null,
   "metadata": {},
   "outputs": [],
   "source": []
  },
  {
   "cell_type": "code",
   "execution_count": null,
   "metadata": {},
   "outputs": [],
   "source": []
  },
  {
   "cell_type": "code",
   "execution_count": null,
   "metadata": {},
   "outputs": [],
   "source": []
  },
  {
   "cell_type": "code",
   "execution_count": null,
   "metadata": {},
   "outputs": [],
   "source": []
  },
  {
   "cell_type": "code",
   "execution_count": null,
   "metadata": {},
   "outputs": [],
   "source": []
  },
  {
   "cell_type": "code",
   "execution_count": null,
   "metadata": {},
   "outputs": [],
   "source": []
  },
  {
   "cell_type": "code",
   "execution_count": null,
   "metadata": {},
   "outputs": [],
   "source": []
  },
  {
   "cell_type": "code",
   "execution_count": null,
   "metadata": {},
   "outputs": [],
   "source": []
  },
  {
   "cell_type": "code",
   "execution_count": null,
   "metadata": {},
   "outputs": [],
   "source": []
  },
  {
   "cell_type": "code",
   "execution_count": null,
   "metadata": {},
   "outputs": [],
   "source": []
  },
  {
   "cell_type": "code",
   "execution_count": null,
   "metadata": {},
   "outputs": [],
   "source": []
  },
  {
   "cell_type": "code",
   "execution_count": null,
   "metadata": {},
   "outputs": [],
   "source": []
  }
 ],
 "metadata": {
  "kernelspec": {
   "display_name": "Python 3 (ipykernel)",
   "language": "python",
   "name": "python3"
  },
  "language_info": {
   "codemirror_mode": {
    "name": "ipython",
    "version": 3
   },
   "file_extension": ".py",
   "mimetype": "text/x-python",
   "name": "python",
   "nbconvert_exporter": "python",
   "pygments_lexer": "ipython3",
   "version": "3.10.12"
  }
 },
 "nbformat": 4,
 "nbformat_minor": 4
}
